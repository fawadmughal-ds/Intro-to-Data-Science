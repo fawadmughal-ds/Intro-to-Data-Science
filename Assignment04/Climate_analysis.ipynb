{
 "cells": [
  {
   "cell_type": "markdown",
   "metadata": {},
   "source": [
    "Step 1: Initialize Temperature and Humidity Data"
   ]
  },
  {
   "cell_type": "code",
   "execution_count": null,
   "metadata": {},
   "outputs": [],
   "source": [
    "import numpy as np\n",
    "np.random.seed(42)\n",
    "temperature_data = np.random.uniform(-10, 40, (500, 365))\n",
    "humidity_data = np.random.uniform(0, 100, (500, 365))\n",
    "print(temperature_data)"
   ]
  },
  {
   "cell_type": "markdown",
   "metadata": {},
   "source": [
    "Step 2: Check for Missing Data"
   ]
  },
  {
   "cell_type": "code",
   "execution_count": null,
   "metadata": {},
   "outputs": [],
   "source": [
    "import numpy as np \n",
    "# Introduce 5% missing data\n",
    "num_missing = int(0.05 * temperature_data.size)\n",
    "\n",
    "# Randomly select indices for missing data\n",
    "missing_indices_temp = np.random.choice(temperature_data.size, num_missing, replace=False)\n",
    "missing_indices_humidity = np.random.choice(humidity_data.size, num_missing, replace=False)\n",
    "\n",
    "# Set selected indices to NaN (null)\n",
    "temperature_data.flat[missing_indices_temp] = np.nan\n",
    "humidity_data.flat[missing_indices_humidity] = np.nan\n",
    "\n",
    "# Count the number of NaN values\n",
    "num_missing_temp = np.isnan(temperature_data).sum()\n",
    "num_missing_humidity = np.isnan(humidity_data).sum()\n",
    "num_mmissing_temp\n",
    "num_missing_humidity"
   ]
  },
  {
   "cell_type": "markdown",
   "metadata": {},
   "source": [
    "Step 3: Convert Temperature and Calculate Discomfort Index"
   ]
  },
  {
   "cell_type": "code",
   "execution_count": null,
   "metadata": {},
   "outputs": [],
   "source": [
    "import numpy as np\n",
    "# Convert Celsius to Fahrenheit\n",
    "temperature_data_fahrenheit = (temperature_data * 9/5) + 32\n",
    "\n",
    "# Compute the discomfort index: an approximation formula could be\n",
    "discomfort_index = 0.5 * (temperature_data + 61 + ((temperature_data - 68) * 1.2) + (humidity_data * 0.094))\n",
    "\n",
    "# Cap values exceeding 80\n",
    "discomfort_index = np.where(discomfort_index > 80, 80, discomfort_index)\n",
    "discomfort_index"
   ]
  },
  {
   "cell_type": "markdown",
   "metadata": {},
   "source": [
    "Step 4: Analyze January Temperatures"
   ]
  },
  {
   "cell_type": "code",
   "execution_count": null,
   "metadata": {},
   "outputs": [],
   "source": [
    "import numpy as np\n",
    "# Extract January data (first 31 days)\n",
    "january_temps = temperature_data[:, :31]\n",
    "\n",
    "# Calculate the average January temperature\n",
    "average_january_temp = np.nanmean(january_temps)\n",
    "print(f\"Average January temperature across all locations: {average_january_temp:.2f}°C\")\n"
   ]
  },
  {
   "cell_type": "markdown",
   "metadata": {},
   "source": [
    "Step 5: Identify Extreme Temperatures"
   ]
  },
  {
   "cell_type": "code",
   "execution_count": null,
   "metadata": {},
   "outputs": [],
   "source": [
    "import numpy as np\n",
    "# Replace temperatures exceeding 35°C with NaN\n",
    "temperature_data[temperature_data > 35] = np.nan\n",
    "\n",
    "# Count the number of null values per location\n",
    "null_counts_per_location = np.isnan(temperature_data).sum(axis=1)\n",
    "null_counts_per_location"
   ]
  },
  {
   "cell_type": "markdown",
   "metadata": {},
   "source": [
    "Step 6: Calculate Quarterly Temperature Averages"
   ]
  },
  {
   "cell_type": "code",
   "execution_count": null,
   "metadata": {},
   "outputs": [],
   "source": [
    "import numpy as np \n",
    "# Reshape data into four quarters\n",
    "quarters = np.array_split(temperature_data, 4, axis=1)\n",
    "\n",
    "# Calculate the average temperature for each location across quarters\n",
    "quarterly_averages = [np.nanmean(quarter, axis=1) for quarter in quarters]\n",
    "\n",
    "# Display quarterly averages\n",
    "for i, avg in enumerate(quarterly_averages):\n",
    "    print(f\"Average temperature for Quarter {i+1}:\")\n",
    "    print(avg)\n"
   ]
  },
  {
   "cell_type": "markdown",
   "metadata": {},
   "source": [
    "Step 7: Classify Humidity Levels"
   ]
  },
  {
   "cell_type": "code",
   "execution_count": null,
   "metadata": {},
   "outputs": [],
   "source": [
    "import numpy as np\n",
    "# Classify humidity as 'Dry' (<30%) or 'Humid' (>70%)\n",
    "dry_days = (humidity_data < 30).sum(axis=1)\n",
    "humid_days = (humidity_data > 70).sum(axis=1)\n",
    "\n",
    "print(\"Number of 'Dry' and 'Humid' days per location:\")\n",
    "for i in range(500):\n",
    "    print(f\"Location {i+1}: Dry days = {dry_days[i]}, Humid days = {humid_days[i]}\")\n"
   ]
  },
  {
   "cell_type": "markdown",
   "metadata": {},
   "source": [
    "Step 8: Apply Daily Pressure Trend to Temperature Data"
   ]
  },
  {
   "cell_type": "code",
   "execution_count": null,
   "metadata": {},
   "outputs": [],
   "source": [
    "import numpy as np \n",
    "# Generate a daily pressure trend\n",
    "pressure_trend = np.linspace(0.95, 1.05, 365)  # Slight variation from 0.95 to 1.05\n",
    "\n",
    "# Adjust temperature data with the pressure trend\n",
    "temperature_data_adjusted = temperature_data * pressure_trend\n",
    "\n",
    "print(\"Temperature data has been adjusted with daily pressure variations.\")\n"
   ]
  }
 ],
 "metadata": {
  "kernelspec": {
   "display_name": "Python 3",
   "language": "python",
   "name": "python3"
  },
  "language_info": {
   "codemirror_mode": {
    "name": "ipython",
    "version": 3
   },
   "file_extension": ".py",
   "mimetype": "text/x-python",
   "name": "python",
   "nbconvert_exporter": "python",
   "pygments_lexer": "ipython3",
   "version": "3.13.0"
  }
 },
 "nbformat": 4,
 "nbformat_minor": 2
}
